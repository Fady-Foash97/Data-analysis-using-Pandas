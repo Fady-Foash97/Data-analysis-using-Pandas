{
 "cells": [
  {
   "cell_type": "markdown",
   "id": "f0037bd8-33e6-484b-b866-60ecd23a6667",
   "metadata": {},
   "source": [
    "## Car prices dataset:"
   ]
  },
  {
   "cell_type": "markdown",
   "id": "5ab3f936-eb8c-4f92-976e-c1af8bf4cf48",
   "metadata": {},
   "source": [
    "- This dataset contains 10,000 entries created for the purpose of predicting car prices. Each row represents information about a car and its price."
   ]
  },
  {
   "cell_type": "markdown",
   "id": "fb681ed5-4509-4e0b-8db0-510a476e6b5d",
   "metadata": {},
   "source": [
    "## Columns:"
   ]
  },
  {
   "cell_type": "markdown",
   "id": "f51593e9-d09f-4fe9-94ea-f61b1d20fdec",
   "metadata": {},
   "source": [
    "1. Brand: Specifies the brand of the car (e.g., Toyota, BMW, Ford).\n",
    "2. Model: Specifies the model of the car (e.g., Corolla, Focus, X5).\n",
    "3. Year: The production year of the car. Newer years typically indicate higher prices.\n",
    "4. Engine_Size: Specifies the engine size in liters (L). Larger engines generally correlate with higher prices.\n",
    "5. Fuel_Type: indicates the type of fuel used by the car:\n",
    "     - Petrol: Cars running on gasoline.\n",
    "     - Diesel: Cars running on diesel fuel.\n",
    "     - Hybrid: Cars that use both fuel and electricity.\n",
    "     - Electric: Fully electric cars.\n",
    "6. Transmission: The type of transmission in the car:\n",
    "7. Mileage: The total distance the car has traveled, measured in kilometers. Lower mileage generally indicates a higher price.\n",
    "8. Doors: The number of doors in the car. Commonly 2, 3, 4, or 5 doors.\n",
    "9. Owner_Count: The number of previous owners of the car. Fewer owners generally indicate a higher price.\n",
    "10. Price: The estimated selling price of the car. It is calculated based on several factors such as production year, engine size, mileage, fuel type, and transmission."
   ]
  },
  {
   "cell_type": "code",
   "execution_count": 2,
   "id": "22c2ad0f-62c8-411d-9dfc-bc1abe749062",
   "metadata": {},
   "outputs": [],
   "source": [
    "import pandas as pd\n",
    "import matplotlib.pyplot as plt"
   ]
  },
  {
   "cell_type": "code",
   "execution_count": 3,
   "id": "73ab6a91-139e-40e0-98df-dd9d5c868008",
   "metadata": {},
   "outputs": [],
   "source": [
    "df = pd.read_csv(\"car_price_dataset.csv\")"
   ]
  },
  {
   "cell_type": "code",
   "execution_count": 4,
   "id": "e77c0fe7-fc2d-46ec-995e-1c9537442899",
   "metadata": {},
   "outputs": [
    {
     "data": {
      "text/html": [
       "<div>\n",
       "<style scoped>\n",
       "    .dataframe tbody tr th:only-of-type {\n",
       "        vertical-align: middle;\n",
       "    }\n",
       "\n",
       "    .dataframe tbody tr th {\n",
       "        vertical-align: top;\n",
       "    }\n",
       "\n",
       "    .dataframe thead th {\n",
       "        text-align: right;\n",
       "    }\n",
       "</style>\n",
       "<table border=\"1\" class=\"dataframe\">\n",
       "  <thead>\n",
       "    <tr style=\"text-align: right;\">\n",
       "      <th></th>\n",
       "      <th>Brand</th>\n",
       "      <th>Model</th>\n",
       "      <th>Year</th>\n",
       "      <th>Engine_Size</th>\n",
       "      <th>Fuel_Type</th>\n",
       "      <th>Transmission</th>\n",
       "      <th>Mileage</th>\n",
       "      <th>Doors</th>\n",
       "      <th>Owner_Count</th>\n",
       "      <th>Price</th>\n",
       "    </tr>\n",
       "  </thead>\n",
       "  <tbody>\n",
       "    <tr>\n",
       "      <th>0</th>\n",
       "      <td>Kia</td>\n",
       "      <td>Rio</td>\n",
       "      <td>2020</td>\n",
       "      <td>4.2</td>\n",
       "      <td>Diesel</td>\n",
       "      <td>Manual</td>\n",
       "      <td>289944</td>\n",
       "      <td>3</td>\n",
       "      <td>5</td>\n",
       "      <td>8501</td>\n",
       "    </tr>\n",
       "    <tr>\n",
       "      <th>1</th>\n",
       "      <td>Chevrolet</td>\n",
       "      <td>Malibu</td>\n",
       "      <td>2012</td>\n",
       "      <td>2.0</td>\n",
       "      <td>Hybrid</td>\n",
       "      <td>Automatic</td>\n",
       "      <td>5356</td>\n",
       "      <td>2</td>\n",
       "      <td>3</td>\n",
       "      <td>12092</td>\n",
       "    </tr>\n",
       "    <tr>\n",
       "      <th>2</th>\n",
       "      <td>Mercedes</td>\n",
       "      <td>GLA</td>\n",
       "      <td>2020</td>\n",
       "      <td>4.2</td>\n",
       "      <td>Diesel</td>\n",
       "      <td>Automatic</td>\n",
       "      <td>231440</td>\n",
       "      <td>4</td>\n",
       "      <td>2</td>\n",
       "      <td>11171</td>\n",
       "    </tr>\n",
       "    <tr>\n",
       "      <th>3</th>\n",
       "      <td>Audi</td>\n",
       "      <td>Q5</td>\n",
       "      <td>2023</td>\n",
       "      <td>2.0</td>\n",
       "      <td>Electric</td>\n",
       "      <td>Manual</td>\n",
       "      <td>160971</td>\n",
       "      <td>2</td>\n",
       "      <td>1</td>\n",
       "      <td>11780</td>\n",
       "    </tr>\n",
       "    <tr>\n",
       "      <th>4</th>\n",
       "      <td>Volkswagen</td>\n",
       "      <td>Golf</td>\n",
       "      <td>2003</td>\n",
       "      <td>2.6</td>\n",
       "      <td>Hybrid</td>\n",
       "      <td>Semi-Automatic</td>\n",
       "      <td>286618</td>\n",
       "      <td>3</td>\n",
       "      <td>3</td>\n",
       "      <td>2867</td>\n",
       "    </tr>\n",
       "    <tr>\n",
       "      <th>...</th>\n",
       "      <td>...</td>\n",
       "      <td>...</td>\n",
       "      <td>...</td>\n",
       "      <td>...</td>\n",
       "      <td>...</td>\n",
       "      <td>...</td>\n",
       "      <td>...</td>\n",
       "      <td>...</td>\n",
       "      <td>...</td>\n",
       "      <td>...</td>\n",
       "    </tr>\n",
       "    <tr>\n",
       "      <th>9995</th>\n",
       "      <td>Kia</td>\n",
       "      <td>Optima</td>\n",
       "      <td>2004</td>\n",
       "      <td>3.7</td>\n",
       "      <td>Diesel</td>\n",
       "      <td>Semi-Automatic</td>\n",
       "      <td>5794</td>\n",
       "      <td>2</td>\n",
       "      <td>4</td>\n",
       "      <td>8884</td>\n",
       "    </tr>\n",
       "    <tr>\n",
       "      <th>9996</th>\n",
       "      <td>Chevrolet</td>\n",
       "      <td>Impala</td>\n",
       "      <td>2002</td>\n",
       "      <td>1.4</td>\n",
       "      <td>Electric</td>\n",
       "      <td>Automatic</td>\n",
       "      <td>168000</td>\n",
       "      <td>2</td>\n",
       "      <td>1</td>\n",
       "      <td>6240</td>\n",
       "    </tr>\n",
       "    <tr>\n",
       "      <th>9997</th>\n",
       "      <td>BMW</td>\n",
       "      <td>3 Series</td>\n",
       "      <td>2010</td>\n",
       "      <td>3.0</td>\n",
       "      <td>Petrol</td>\n",
       "      <td>Automatic</td>\n",
       "      <td>86664</td>\n",
       "      <td>5</td>\n",
       "      <td>1</td>\n",
       "      <td>9866</td>\n",
       "    </tr>\n",
       "    <tr>\n",
       "      <th>9998</th>\n",
       "      <td>Ford</td>\n",
       "      <td>Explorer</td>\n",
       "      <td>2002</td>\n",
       "      <td>1.4</td>\n",
       "      <td>Hybrid</td>\n",
       "      <td>Automatic</td>\n",
       "      <td>225772</td>\n",
       "      <td>4</td>\n",
       "      <td>1</td>\n",
       "      <td>4084</td>\n",
       "    </tr>\n",
       "    <tr>\n",
       "      <th>9999</th>\n",
       "      <td>Volkswagen</td>\n",
       "      <td>Tiguan</td>\n",
       "      <td>2001</td>\n",
       "      <td>2.1</td>\n",
       "      <td>Diesel</td>\n",
       "      <td>Manual</td>\n",
       "      <td>157882</td>\n",
       "      <td>3</td>\n",
       "      <td>3</td>\n",
       "      <td>3342</td>\n",
       "    </tr>\n",
       "  </tbody>\n",
       "</table>\n",
       "<p>10000 rows × 10 columns</p>\n",
       "</div>"
      ],
      "text/plain": [
       "           Brand     Model  Year  Engine_Size Fuel_Type    Transmission  \\\n",
       "0            Kia       Rio  2020          4.2    Diesel          Manual   \n",
       "1      Chevrolet    Malibu  2012          2.0    Hybrid       Automatic   \n",
       "2       Mercedes       GLA  2020          4.2    Diesel       Automatic   \n",
       "3           Audi        Q5  2023          2.0  Electric          Manual   \n",
       "4     Volkswagen      Golf  2003          2.6    Hybrid  Semi-Automatic   \n",
       "...          ...       ...   ...          ...       ...             ...   \n",
       "9995         Kia    Optima  2004          3.7    Diesel  Semi-Automatic   \n",
       "9996   Chevrolet    Impala  2002          1.4  Electric       Automatic   \n",
       "9997         BMW  3 Series  2010          3.0    Petrol       Automatic   \n",
       "9998        Ford  Explorer  2002          1.4    Hybrid       Automatic   \n",
       "9999  Volkswagen    Tiguan  2001          2.1    Diesel          Manual   \n",
       "\n",
       "      Mileage  Doors  Owner_Count  Price  \n",
       "0      289944      3            5   8501  \n",
       "1        5356      2            3  12092  \n",
       "2      231440      4            2  11171  \n",
       "3      160971      2            1  11780  \n",
       "4      286618      3            3   2867  \n",
       "...       ...    ...          ...    ...  \n",
       "9995     5794      2            4   8884  \n",
       "9996   168000      2            1   6240  \n",
       "9997    86664      5            1   9866  \n",
       "9998   225772      4            1   4084  \n",
       "9999   157882      3            3   3342  \n",
       "\n",
       "[10000 rows x 10 columns]"
      ]
     },
     "execution_count": 4,
     "metadata": {},
     "output_type": "execute_result"
    }
   ],
   "source": [
    "df"
   ]
  },
  {
   "cell_type": "markdown",
   "id": "bed3f81f-935c-42e5-8175-30cb85c6235e",
   "metadata": {},
   "source": [
    "## What data needs to be analyzed?"
   ]
  },
  {
   "cell_type": "markdown",
   "id": "7a81bf6b-3aae-43bb-8444-35fc5f66406c",
   "metadata": {},
   "source": [
    "1. What is the highest car price?\n",
    "2. What is the brand that has the most expensive cars?\n",
    "3. Does the mileage(The total distance the car can travel) affect the price?\n",
    "4. What is the most used fuel type? and what is the most expensive?\n",
    "5. Which year and brand made the most cars?\n",
    "6. Which year in which the most cars were made?"
   ]
  },
  {
   "cell_type": "code",
   "execution_count": 10,
   "id": "8bd0aadd-bb04-43d7-899c-eabc5c1e0f31",
   "metadata": {},
   "outputs": [
    {
     "name": "stdout",
     "output_type": "stream",
     "text": [
      "<class 'pandas.core.frame.DataFrame'>\n",
      "RangeIndex: 10000 entries, 0 to 9999\n",
      "Data columns (total 10 columns):\n",
      " #   Column        Non-Null Count  Dtype  \n",
      "---  ------        --------------  -----  \n",
      " 0   Brand         10000 non-null  object \n",
      " 1   Model         10000 non-null  object \n",
      " 2   Year          10000 non-null  int64  \n",
      " 3   Engine_Size   10000 non-null  float64\n",
      " 4   Fuel_Type     10000 non-null  object \n",
      " 5   Transmission  10000 non-null  object \n",
      " 6   Mileage       10000 non-null  int64  \n",
      " 7   Doors         10000 non-null  int64  \n",
      " 8   Owner_Count   10000 non-null  int64  \n",
      " 9   Price         10000 non-null  int64  \n",
      "dtypes: float64(1), int64(5), object(4)\n",
      "memory usage: 781.4+ KB\n"
     ]
    }
   ],
   "source": [
    "df.info()"
   ]
  },
  {
   "cell_type": "code",
   "execution_count": 12,
   "id": "4cc61cbe-0378-4a56-8581-92ba0651c2cd",
   "metadata": {},
   "outputs": [],
   "source": [
    "del df[\"Doors\"]"
   ]
  },
  {
   "cell_type": "code",
   "execution_count": 14,
   "id": "53a56770-2a67-4a21-8b62-09efb929fb7a",
   "metadata": {},
   "outputs": [
    {
     "name": "stdout",
     "output_type": "stream",
     "text": [
      "<class 'pandas.core.frame.DataFrame'>\n",
      "RangeIndex: 10000 entries, 0 to 9999\n",
      "Data columns (total 9 columns):\n",
      " #   Column        Non-Null Count  Dtype  \n",
      "---  ------        --------------  -----  \n",
      " 0   Brand         10000 non-null  object \n",
      " 1   Model         10000 non-null  object \n",
      " 2   Year          10000 non-null  int64  \n",
      " 3   Engine_Size   10000 non-null  float64\n",
      " 4   Fuel_Type     10000 non-null  object \n",
      " 5   Transmission  10000 non-null  object \n",
      " 6   Mileage       10000 non-null  int64  \n",
      " 7   Owner_Count   10000 non-null  int64  \n",
      " 8   Price         10000 non-null  int64  \n",
      "dtypes: float64(1), int64(4), object(4)\n",
      "memory usage: 703.3+ KB\n"
     ]
    }
   ],
   "source": [
    "df.info()"
   ]
  },
  {
   "cell_type": "markdown",
   "id": "029c3f4d-231b-4d54-900e-f1cd32cad232",
   "metadata": {},
   "source": [
    "## Mission 1:"
   ]
  },
  {
   "cell_type": "code",
   "execution_count": 23,
   "id": "f0f17999-31e9-43d4-af11-67ec8f1b6d58",
   "metadata": {},
   "outputs": [
    {
     "data": {
      "text/plain": [
       "Price               18301\n",
       "Brand          Volkswagen\n",
       "Model                  X5\n",
       "Year                 2023\n",
       "Fuel_Type          Petrol\n",
       "Mileage            299947\n",
       "Owner_Count             5\n",
       "Engine_Size           5.0\n",
       "dtype: object"
      ]
     },
     "execution_count": 23,
     "metadata": {},
     "output_type": "execute_result"
    }
   ],
   "source": [
    "df[[\"Price\", \"Brand\", \"Model\", \"Year\", \"Fuel_Type\", \"Mileage\", \"Owner_Count\", \"Engine_Size\"]].max()"
   ]
  },
  {
   "cell_type": "code",
   "execution_count": 25,
   "id": "1ff99482-c366-4cd1-af87-2360eb448f28",
   "metadata": {},
   "outputs": [
    {
     "data": {
      "text/plain": [
       "Mileage              25\n",
       "Brand              Audi\n",
       "Model          3 Series\n",
       "Owner_Count           1\n",
       "Year               2000\n",
       "Fuel_Type        Diesel\n",
       "Price              2000\n",
       "Engine_Size         1.0\n",
       "dtype: object"
      ]
     },
     "execution_count": 25,
     "metadata": {},
     "output_type": "execute_result"
    }
   ],
   "source": [
    "df[[\"Mileage\", \"Brand\", \"Model\", \"Owner_Count\", \"Year\", \"Fuel_Type\", \"Price\", \"Engine_Size\"]].min()"
   ]
  },
  {
   "cell_type": "markdown",
   "id": "804b51fc-6559-4d66-b685-280322f2eaa6",
   "metadata": {},
   "source": [
    "## Conclusion: "
   ]
  },
  {
   "cell_type": "markdown",
   "id": "3cb35dca-6b3f-4a21-b98b-b65291694984",
   "metadata": {},
   "source": [
    "- The car with the highest price is the volkswagen X5 and has 5 owners , it costs $18301 , it uses petrol gas and has an engine size of 5.0 meters, it was released in 2023, and can travel 18301 meters per second."
   ]
  },
  {
   "cell_type": "markdown",
   "id": "44ac769d-3a31-440a-9b0e-277c081560a1",
   "metadata": {},
   "source": [
    "- The car with the lowest price is the audi 3 series and has 1 owner, it costs $2000 ,it uses diesel gas and has an engine size of 1.0 meter, it was released in 2000, and can travel 25 meters per second."
   ]
  },
  {
   "cell_type": "markdown",
   "id": "527659c0-8a9b-4459-9bff-d7f36bd0259b",
   "metadata": {},
   "source": [
    "# Mission 2:"
   ]
  },
  {
   "cell_type": "code",
   "execution_count": 17,
   "id": "2c071cad-1214-424b-a650-54b54032f308",
   "metadata": {},
   "outputs": [],
   "source": [
    "brand_prices = df.groupby(\"Brand\")[\"Price\"].sum().reset_index()"
   ]
  },
  {
   "cell_type": "code",
   "execution_count": 19,
   "id": "3a24848d-cba9-4177-afef-3398c0fe1601",
   "metadata": {},
   "outputs": [
    {
     "data": {
      "text/html": [
       "<div>\n",
       "<style scoped>\n",
       "    .dataframe tbody tr th:only-of-type {\n",
       "        vertical-align: middle;\n",
       "    }\n",
       "\n",
       "    .dataframe tbody tr th {\n",
       "        vertical-align: top;\n",
       "    }\n",
       "\n",
       "    .dataframe thead th {\n",
       "        text-align: right;\n",
       "    }\n",
       "</style>\n",
       "<table border=\"1\" class=\"dataframe\">\n",
       "  <thead>\n",
       "    <tr style=\"text-align: right;\">\n",
       "      <th></th>\n",
       "      <th>Brand</th>\n",
       "      <th>Price</th>\n",
       "    </tr>\n",
       "  </thead>\n",
       "  <tbody>\n",
       "    <tr>\n",
       "      <th>0</th>\n",
       "      <td>Audi</td>\n",
       "      <td>9268690</td>\n",
       "    </tr>\n",
       "    <tr>\n",
       "      <th>1</th>\n",
       "      <td>BMW</td>\n",
       "      <td>8695364</td>\n",
       "    </tr>\n",
       "    <tr>\n",
       "      <th>2</th>\n",
       "      <td>Chevrolet</td>\n",
       "      <td>9042731</td>\n",
       "    </tr>\n",
       "    <tr>\n",
       "      <th>3</th>\n",
       "      <td>Ford</td>\n",
       "      <td>9277494</td>\n",
       "    </tr>\n",
       "    <tr>\n",
       "      <th>4</th>\n",
       "      <td>Honda</td>\n",
       "      <td>8743587</td>\n",
       "    </tr>\n",
       "    <tr>\n",
       "      <th>5</th>\n",
       "      <td>Hyundai</td>\n",
       "      <td>8734388</td>\n",
       "    </tr>\n",
       "    <tr>\n",
       "      <th>6</th>\n",
       "      <td>Kia</td>\n",
       "      <td>8666964</td>\n",
       "    </tr>\n",
       "    <tr>\n",
       "      <th>7</th>\n",
       "      <td>Mercedes</td>\n",
       "      <td>8459242</td>\n",
       "    </tr>\n",
       "    <tr>\n",
       "      <th>8</th>\n",
       "      <td>Toyota</td>\n",
       "      <td>8534239</td>\n",
       "    </tr>\n",
       "    <tr>\n",
       "      <th>9</th>\n",
       "      <td>Volkswagen</td>\n",
       "      <td>9106945</td>\n",
       "    </tr>\n",
       "  </tbody>\n",
       "</table>\n",
       "</div>"
      ],
      "text/plain": [
       "        Brand    Price\n",
       "0        Audi  9268690\n",
       "1         BMW  8695364\n",
       "2   Chevrolet  9042731\n",
       "3        Ford  9277494\n",
       "4       Honda  8743587\n",
       "5     Hyundai  8734388\n",
       "6         Kia  8666964\n",
       "7    Mercedes  8459242\n",
       "8      Toyota  8534239\n",
       "9  Volkswagen  9106945"
      ]
     },
     "execution_count": 19,
     "metadata": {},
     "output_type": "execute_result"
    }
   ],
   "source": [
    "brand_prices"
   ]
  },
  {
   "cell_type": "markdown",
   "id": "422cfbc4-16cb-4dba-8a1d-92a586d9f56f",
   "metadata": {},
   "source": [
    "brand_prices"
   ]
  },
  {
   "cell_type": "code",
   "execution_count": 21,
   "id": "a3510a0d-72ff-4b45-9fd5-ab8ca9669ae6",
   "metadata": {},
   "outputs": [
    {
     "data": {
      "image/png": "[encoded data removed]",
      "text/plain": [
       "<Figure size 640x480 with 1 Axes>"
      ]
     },
     "metadata": {},
     "output_type": "display_data"
    }
   ],
   "source": [
    "plt.barh(brand_prices[\"Brand\"], brand_prices[\"Price\"], height=0.5)\n",
    "plt.xlabel(\"Price\")\n",
    "plt.ylabel(\"Brand\")\n",
    "plt.title(\"Car brand prices\")\n",
    "plt.show()"
   ]
  },
  {
   "cell_type": "markdown",
   "id": "43c854f3-a6b6-421d-9fc4-05f7704dc3fb",
   "metadata": {},
   "source": [
    "## Conclusion: \n",
    "- The car brands that have the most expensive cars are Ford and Audi.\n",
    "- The car brand that has the least number of expensive cars is Mercedes."
   ]
  },
  {
   "cell_type": "markdown",
   "id": "05599ed4-fcea-43a9-bcae-dcb5adf7e564",
   "metadata": {},
   "source": [
    "# Mission 3:"
   ]
  },
  {
   "cell_type": "code",
   "execution_count": 39,
   "id": "a57ac54b-1c2c-4a23-a155-6d4a93110f2f",
   "metadata": {},
   "outputs": [],
   "source": [
    "Mileage = df[[\"Mileage\", \"Price\"]].sort_values(by=\"Price\")"
   ]
  },
  {
   "cell_type": "code",
   "execution_count": 40,
   "id": "428c5987-4ea8-4c05-b8da-326a0434e454",
   "metadata": {},
   "outputs": [
    {
     "data": {
      "text/html": [
       "<div>\n",
       "<style scoped>\n",
       "    .dataframe tbody tr th:only-of-type {\n",
       "        vertical-align: middle;\n",
       "    }\n",
       "\n",
       "    .dataframe tbody tr th {\n",
       "        vertical-align: top;\n",
       "    }\n",
       "\n",
       "    .dataframe thead th {\n",
       "        text-align: right;\n",
       "    }\n",
       "</style>\n",
       "<table border=\"1\" class=\"dataframe\">\n",
       "  <thead>\n",
       "    <tr style=\"text-align: right;\">\n",
       "      <th></th>\n",
       "      <th>Mileage</th>\n",
       "      <th>Price</th>\n",
       "    </tr>\n",
       "  </thead>\n",
       "  <tbody>\n",
       "    <tr>\n",
       "      <th>4199</th>\n",
       "      <td>290006</td>\n",
       "      <td>2000</td>\n",
       "    </tr>\n",
       "    <tr>\n",
       "      <th>6470</th>\n",
       "      <td>258029</td>\n",
       "      <td>2000</td>\n",
       "    </tr>\n",
       "    <tr>\n",
       "      <th>6973</th>\n",
       "      <td>229776</td>\n",
       "      <td>2000</td>\n",
       "    </tr>\n",
       "    <tr>\n",
       "      <th>4030</th>\n",
       "      <td>257319</td>\n",
       "      <td>2000</td>\n",
       "    </tr>\n",
       "    <tr>\n",
       "      <th>2542</th>\n",
       "      <td>261003</td>\n",
       "      <td>2000</td>\n",
       "    </tr>\n",
       "    <tr>\n",
       "      <th>...</th>\n",
       "      <td>...</td>\n",
       "      <td>...</td>\n",
       "    </tr>\n",
       "    <tr>\n",
       "      <th>5698</th>\n",
       "      <td>10046</td>\n",
       "      <td>17899</td>\n",
       "    </tr>\n",
       "    <tr>\n",
       "      <th>9564</th>\n",
       "      <td>14658</td>\n",
       "      <td>17906</td>\n",
       "    </tr>\n",
       "    <tr>\n",
       "      <th>1012</th>\n",
       "      <td>19112</td>\n",
       "      <td>18017</td>\n",
       "    </tr>\n",
       "    <tr>\n",
       "      <th>7221</th>\n",
       "      <td>12234</td>\n",
       "      <td>18255</td>\n",
       "    </tr>\n",
       "    <tr>\n",
       "      <th>1100</th>\n",
       "      <td>14924</td>\n",
       "      <td>18301</td>\n",
       "    </tr>\n",
       "  </tbody>\n",
       "</table>\n",
       "<p>10000 rows × 2 columns</p>\n",
       "</div>"
      ],
      "text/plain": [
       "      Mileage  Price\n",
       "4199   290006   2000\n",
       "6470   258029   2000\n",
       "6973   229776   2000\n",
       "4030   257319   2000\n",
       "2542   261003   2000\n",
       "...       ...    ...\n",
       "5698    10046  17899\n",
       "9564    14658  17906\n",
       "1012    19112  18017\n",
       "7221    12234  18255\n",
       "1100    14924  18301\n",
       "\n",
       "[10000 rows x 2 columns]"
      ]
     },
     "execution_count": 40,
     "metadata": {},
     "output_type": "execute_result"
    }
   ],
   "source": [
    "Mileage"
   ]
  },
  {
   "cell_type": "code",
   "execution_count": 43,
   "id": "99fee0bc-756b-4ec8-a448-84159a01a875",
   "metadata": {},
   "outputs": [
    {
     "data": {
      "image/png": "[encoded data removed]",
      "text/plain": [
       "<Figure size 640x480 with 1 Axes>"
      ]
     },
     "metadata": {},
     "output_type": "display_data"
    }
   ],
   "source": [
    "plt.scatter(df[\"Mileage\"], df[\"Price\"])\n",
    "plt.xlabel(\"Mileage\")\n",
    "plt.ylabel(\"Price\")\n",
    "plt.title(\"Mileage vs price\")\n",
    "plt.show()"
   ]
  },
  {
   "cell_type": "markdown",
   "id": "20579beb-58d2-406b-89e0-d2ff82b1280c",
   "metadata": {},
   "source": [
    "## Conclusion:"
   ]
  },
  {
   "cell_type": "markdown",
   "id": "5fb22837-c914-47ed-8398-0893e18f13e2",
   "metadata": {},
   "source": [
    "- There's a negative relationship between The mileage that a car travels and its price:\n",
    "- As the mileage increases, the price of the car decreases and vice versa"
   ]
  },
  {
   "cell_type": "markdown",
   "id": "83114f1b-1519-4f9c-9470-5b1a6e710f0e",
   "metadata": {},
   "source": [
    "# Mission 4:"
   ]
  },
  {
   "cell_type": "code",
   "execution_count": 98,
   "id": "75156f29-435d-47da-98a5-e845ceb53b3d",
   "metadata": {},
   "outputs": [
    {
     "name": "stdout",
     "output_type": "stream",
     "text": [
      "<class 'pandas.core.frame.DataFrame'>\n",
      "RangeIndex: 10000 entries, 0 to 9999\n",
      "Data columns (total 9 columns):\n",
      " #   Column        Non-Null Count  Dtype  \n",
      "---  ------        --------------  -----  \n",
      " 0   Brand         10000 non-null  object \n",
      " 1   Model         10000 non-null  object \n",
      " 2   Year          10000 non-null  int64  \n",
      " 3   Engine_Size   10000 non-null  float64\n",
      " 4   Fuel_Type     10000 non-null  object \n",
      " 5   Transmission  10000 non-null  object \n",
      " 6   Mileage       10000 non-null  int64  \n",
      " 7   Owner_Count   10000 non-null  int64  \n",
      " 8   Price         10000 non-null  int64  \n",
      "dtypes: float64(1), int64(4), object(4)\n",
      "memory usage: 703.3+ KB\n"
     ]
    }
   ],
   "source": [
    "df.info()"
   ]
  },
  {
   "cell_type": "code",
   "execution_count": 24,
   "id": "864774f3-f96c-4059-9c35-8ad9db2043b6",
   "metadata": {},
   "outputs": [],
   "source": [
    "Fuel_type = df[[\"Fuel_Type\", \"Price\"]].sort_values(by=\"Price\", ascending= False)"
   ]
  },
  {
   "cell_type": "code",
   "execution_count": 26,
   "id": "1265a64c-30ac-46a9-9c2a-e877db0c9040",
   "metadata": {},
   "outputs": [
    {
     "data": {
      "text/html": [
       "<div>\n",
       "<style scoped>\n",
       "    .dataframe tbody tr th:only-of-type {\n",
       "        vertical-align: middle;\n",
       "    }\n",
       "\n",
       "    .dataframe tbody tr th {\n",
       "        vertical-align: top;\n",
       "    }\n",
       "\n",
       "    .dataframe thead th {\n",
       "        text-align: right;\n",
       "    }\n",
       "</style>\n",
       "<table border=\"1\" class=\"dataframe\">\n",
       "  <thead>\n",
       "    <tr style=\"text-align: right;\">\n",
       "      <th></th>\n",
       "      <th>Fuel_Type</th>\n",
       "      <th>Price</th>\n",
       "    </tr>\n",
       "  </thead>\n",
       "  <tbody>\n",
       "    <tr>\n",
       "      <th>1100</th>\n",
       "      <td>Electric</td>\n",
       "      <td>18301</td>\n",
       "    </tr>\n",
       "    <tr>\n",
       "      <th>7221</th>\n",
       "      <td>Hybrid</td>\n",
       "      <td>18255</td>\n",
       "    </tr>\n",
       "    <tr>\n",
       "      <th>1012</th>\n",
       "      <td>Electric</td>\n",
       "      <td>18017</td>\n",
       "    </tr>\n",
       "    <tr>\n",
       "      <th>9564</th>\n",
       "      <td>Electric</td>\n",
       "      <td>17906</td>\n",
       "    </tr>\n",
       "    <tr>\n",
       "      <th>5698</th>\n",
       "      <td>Hybrid</td>\n",
       "      <td>17899</td>\n",
       "    </tr>\n",
       "    <tr>\n",
       "      <th>...</th>\n",
       "      <td>...</td>\n",
       "      <td>...</td>\n",
       "    </tr>\n",
       "    <tr>\n",
       "      <th>6470</th>\n",
       "      <td>Diesel</td>\n",
       "      <td>2000</td>\n",
       "    </tr>\n",
       "    <tr>\n",
       "      <th>959</th>\n",
       "      <td>Hybrid</td>\n",
       "      <td>2000</td>\n",
       "    </tr>\n",
       "    <tr>\n",
       "      <th>7633</th>\n",
       "      <td>Hybrid</td>\n",
       "      <td>2000</td>\n",
       "    </tr>\n",
       "    <tr>\n",
       "      <th>9442</th>\n",
       "      <td>Diesel</td>\n",
       "      <td>2000</td>\n",
       "    </tr>\n",
       "    <tr>\n",
       "      <th>2542</th>\n",
       "      <td>Petrol</td>\n",
       "      <td>2000</td>\n",
       "    </tr>\n",
       "  </tbody>\n",
       "</table>\n",
       "<p>10000 rows × 2 columns</p>\n",
       "</div>"
      ],
      "text/plain": [
       "     Fuel_Type  Price\n",
       "1100  Electric  18301\n",
       "7221    Hybrid  18255\n",
       "1012  Electric  18017\n",
       "9564  Electric  17906\n",
       "5698    Hybrid  17899\n",
       "...        ...    ...\n",
       "6470    Diesel   2000\n",
       "959     Hybrid   2000\n",
       "7633    Hybrid   2000\n",
       "9442    Diesel   2000\n",
       "2542    Petrol   2000\n",
       "\n",
       "[10000 rows x 2 columns]"
      ]
     },
     "execution_count": 26,
     "metadata": {},
     "output_type": "execute_result"
    }
   ],
   "source": [
    "Fuel_type"
   ]
  },
  {
   "cell_type": "code",
   "execution_count": 28,
   "id": "a688e98b-45ee-4eb1-badf-ed1becb5dd12",
   "metadata": {},
   "outputs": [
    {
     "data": {
      "text/html": [
       "<div>\n",
       "<style scoped>\n",
       "    .dataframe tbody tr th:only-of-type {\n",
       "        vertical-align: middle;\n",
       "    }\n",
       "\n",
       "    .dataframe tbody tr th {\n",
       "        vertical-align: top;\n",
       "    }\n",
       "\n",
       "    .dataframe thead th {\n",
       "        text-align: right;\n",
       "    }\n",
       "</style>\n",
       "<table border=\"1\" class=\"dataframe\">\n",
       "  <thead>\n",
       "    <tr style=\"text-align: right;\">\n",
       "      <th></th>\n",
       "      <th>Fuel_Type</th>\n",
       "      <th>Price</th>\n",
       "    </tr>\n",
       "  </thead>\n",
       "  <tbody>\n",
       "    <tr>\n",
       "      <th>1100</th>\n",
       "      <td>Electric</td>\n",
       "      <td>18301</td>\n",
       "    </tr>\n",
       "    <tr>\n",
       "      <th>7221</th>\n",
       "      <td>Hybrid</td>\n",
       "      <td>18255</td>\n",
       "    </tr>\n",
       "    <tr>\n",
       "      <th>1012</th>\n",
       "      <td>Electric</td>\n",
       "      <td>18017</td>\n",
       "    </tr>\n",
       "    <tr>\n",
       "      <th>9564</th>\n",
       "      <td>Electric</td>\n",
       "      <td>17906</td>\n",
       "    </tr>\n",
       "    <tr>\n",
       "      <th>5698</th>\n",
       "      <td>Hybrid</td>\n",
       "      <td>17899</td>\n",
       "    </tr>\n",
       "  </tbody>\n",
       "</table>\n",
       "</div>"
      ],
      "text/plain": [
       "     Fuel_Type  Price\n",
       "1100  Electric  18301\n",
       "7221    Hybrid  18255\n",
       "1012  Electric  18017\n",
       "9564  Electric  17906\n",
       "5698    Hybrid  17899"
      ]
     },
     "execution_count": 28,
     "metadata": {},
     "output_type": "execute_result"
    }
   ],
   "source": [
    "Fuel_type.head()"
   ]
  },
  {
   "cell_type": "code",
   "execution_count": 30,
   "id": "92fab4e4-c931-4518-8837-9805d8e5dace",
   "metadata": {},
   "outputs": [
    {
     "data": {
      "image/png": "[encoded data removed]",
      "text/plain": [
       "<Figure size 640x480 with 1 Axes>"
      ]
     },
     "metadata": {},
     "output_type": "display_data"
    }
   ],
   "source": [
    "plt.bar(Fuel_type[\"Fuel_Type\"], Fuel_type[\"Price\"], width=0.5)\n",
    "plt.xlabel(\"Fuel type\")\n",
    "plt.ylabel(\"Price\")\n",
    "plt.title(\"Fuel type vs price\")\n",
    "plt.show()"
   ]
  },
  {
   "cell_type": "markdown",
   "id": "50bb601d-afdb-43d9-bcf9-125fe991b551",
   "metadata": {},
   "source": [
    "# Conclusion:"
   ]
  },
  {
   "cell_type": "markdown",
   "id": "aaa77f13-de78-45d0-814e-70677c0a2e13",
   "metadata": {},
   "source": [
    "- The electric fuel and the hybrid fuel between the electric one and petrol one have the highest prices."
   ]
  },
  {
   "cell_type": "markdown",
   "id": "3b96c332-c0de-4299-9e25-395a9436e8d8",
   "metadata": {},
   "source": [
    "# Mission 5:"
   ]
  },
  {
   "cell_type": "code",
   "execution_count": 127,
   "id": "5655f500-7f63-435f-a180-d79a0ac0527b",
   "metadata": {},
   "outputs": [
    {
     "name": "stdout",
     "output_type": "stream",
     "text": [
      "<class 'pandas.core.frame.DataFrame'>\n",
      "RangeIndex: 10000 entries, 0 to 9999\n",
      "Data columns (total 9 columns):\n",
      " #   Column        Non-Null Count  Dtype  \n",
      "---  ------        --------------  -----  \n",
      " 0   Brand         10000 non-null  object \n",
      " 1   Model         10000 non-null  object \n",
      " 2   Year          10000 non-null  int64  \n",
      " 3   Engine_Size   10000 non-null  float64\n",
      " 4   Fuel_Type     10000 non-null  object \n",
      " 5   Transmission  10000 non-null  object \n",
      " 6   Mileage       10000 non-null  int64  \n",
      " 7   Owner_Count   10000 non-null  int64  \n",
      " 8   Price         10000 non-null  int64  \n",
      "dtypes: float64(1), int64(4), object(4)\n",
      "memory usage: 703.3+ KB\n"
     ]
    }
   ],
   "source": [
    "df.info()"
   ]
  },
  {
   "cell_type": "code",
   "execution_count": 129,
   "id": "869326ef-489a-4e4e-a5dd-2488d8bf90cf",
   "metadata": {},
   "outputs": [],
   "source": [
    "Number_of_cars_made = df[[\"Brand\", \"Year\"]].value_counts().sort_values(ascending= False)"
   ]
  },
  {
   "cell_type": "code",
   "execution_count": 131,
   "id": "d0392956-6544-46b9-9d98-0d03103efada",
   "metadata": {},
   "outputs": [
    {
     "data": {
      "text/plain": [
       "Brand   Year\n",
       "Ford    2006    68\n",
       "BMW     2011    62\n",
       "Toyota  2014    60\n",
       "Honda   2002    58\n",
       "BMW     2002    57\n",
       "Name: count, dtype: int64"
      ]
     },
     "execution_count": 131,
     "metadata": {},
     "output_type": "execute_result"
    }
   ],
   "source": [
    "Number_of_cars_made.head()"
   ]
  },
  {
   "cell_type": "markdown",
   "id": "1a04a0ee-c616-4e11-abd9-a1267faf45aa",
   "metadata": {},
   "source": [
    "## Conclusion:"
   ]
  },
  {
   "cell_type": "markdown",
   "id": "444a1a67-21d8-4d1f-b6c5-55fbc29a11a7",
   "metadata": {},
   "source": [
    "- In the year 2006, the Ford car company made the most cars.\n",
    "- the BMW car company made the most cars in both 2011 and 2002.\n",
    "- In the year 2014, Toyota made the most cars.\n",
    "- In the year 2002, Honda made the most cars."
   ]
  },
  {
   "cell_type": "markdown",
   "id": "a2c4d1d8-a2d8-47f0-bd4b-f801cfc5a24b",
   "metadata": {},
   "source": [
    "# Mission 6:"
   ]
  },
  {
   "cell_type": "code",
   "execution_count": 138,
   "id": "23a8a1c1-f11d-4d4b-8005-bc69b94c8136",
   "metadata": {},
   "outputs": [
    {
     "name": "stdout",
     "output_type": "stream",
     "text": [
      "<class 'pandas.core.frame.DataFrame'>\n",
      "RangeIndex: 10000 entries, 0 to 9999\n",
      "Data columns (total 9 columns):\n",
      " #   Column        Non-Null Count  Dtype  \n",
      "---  ------        --------------  -----  \n",
      " 0   Brand         10000 non-null  object \n",
      " 1   Model         10000 non-null  object \n",
      " 2   Year          10000 non-null  int64  \n",
      " 3   Engine_Size   10000 non-null  float64\n",
      " 4   Fuel_Type     10000 non-null  object \n",
      " 5   Transmission  10000 non-null  object \n",
      " 6   Mileage       10000 non-null  int64  \n",
      " 7   Owner_Count   10000 non-null  int64  \n",
      " 8   Price         10000 non-null  int64  \n",
      "dtypes: float64(1), int64(4), object(4)\n",
      "memory usage: 703.3+ KB\n"
     ]
    }
   ],
   "source": [
    "df.info()"
   ]
  },
  {
   "cell_type": "code",
   "execution_count": 140,
   "id": "61c5a085-83bd-4a26-90c5-dcbe65c8f394",
   "metadata": {},
   "outputs": [],
   "source": [
    "df[\"cars_made\"] = df.groupby(\"Year\")[\"Model\"].transform(\"count\")"
   ]
  },
  {
   "cell_type": "code",
   "execution_count": 142,
   "id": "8b66b483-6c2c-49c4-bee2-a984cb374930",
   "metadata": {},
   "outputs": [
    {
     "name": "stdout",
     "output_type": "stream",
     "text": [
      "<class 'pandas.core.frame.DataFrame'>\n",
      "RangeIndex: 10000 entries, 0 to 9999\n",
      "Data columns (total 10 columns):\n",
      " #   Column        Non-Null Count  Dtype  \n",
      "---  ------        --------------  -----  \n",
      " 0   Brand         10000 non-null  object \n",
      " 1   Model         10000 non-null  object \n",
      " 2   Year          10000 non-null  int64  \n",
      " 3   Engine_Size   10000 non-null  float64\n",
      " 4   Fuel_Type     10000 non-null  object \n",
      " 5   Transmission  10000 non-null  object \n",
      " 6   Mileage       10000 non-null  int64  \n",
      " 7   Owner_Count   10000 non-null  int64  \n",
      " 8   Price         10000 non-null  int64  \n",
      " 9   cars_made     10000 non-null  int64  \n",
      "dtypes: float64(1), int64(5), object(4)\n",
      "memory usage: 781.4+ KB\n"
     ]
    }
   ],
   "source": [
    "df.info()"
   ]
  },
  {
   "cell_type": "code",
   "execution_count": 156,
   "id": "b2339a7a-f394-475e-ad7d-eefda37eebb1",
   "metadata": {},
   "outputs": [
    {
     "data": {
      "text/html": [
       "<div>\n",
       "<style scoped>\n",
       "    .dataframe tbody tr th:only-of-type {\n",
       "        vertical-align: middle;\n",
       "    }\n",
       "\n",
       "    .dataframe tbody tr th {\n",
       "        vertical-align: top;\n",
       "    }\n",
       "\n",
       "    .dataframe thead th {\n",
       "        text-align: right;\n",
       "    }\n",
       "</style>\n",
       "<table border=\"1\" class=\"dataframe\">\n",
       "  <thead>\n",
       "    <tr style=\"text-align: right;\">\n",
       "      <th></th>\n",
       "      <th>cars_made</th>\n",
       "      <th>Year</th>\n",
       "    </tr>\n",
       "  </thead>\n",
       "  <tbody>\n",
       "    <tr>\n",
       "      <th>6604</th>\n",
       "      <td>462</td>\n",
       "      <td>2002</td>\n",
       "    </tr>\n",
       "    <tr>\n",
       "      <th>3473</th>\n",
       "      <td>462</td>\n",
       "      <td>2002</td>\n",
       "    </tr>\n",
       "    <tr>\n",
       "      <th>3396</th>\n",
       "      <td>462</td>\n",
       "      <td>2002</td>\n",
       "    </tr>\n",
       "    <tr>\n",
       "      <th>8289</th>\n",
       "      <td>462</td>\n",
       "      <td>2002</td>\n",
       "    </tr>\n",
       "    <tr>\n",
       "      <th>8291</th>\n",
       "      <td>462</td>\n",
       "      <td>2002</td>\n",
       "    </tr>\n",
       "    <tr>\n",
       "      <th>...</th>\n",
       "      <td>...</td>\n",
       "      <td>...</td>\n",
       "    </tr>\n",
       "    <tr>\n",
       "      <th>605</th>\n",
       "      <td>381</td>\n",
       "      <td>2003</td>\n",
       "    </tr>\n",
       "    <tr>\n",
       "      <th>1051</th>\n",
       "      <td>381</td>\n",
       "      <td>2003</td>\n",
       "    </tr>\n",
       "    <tr>\n",
       "      <th>2342</th>\n",
       "      <td>381</td>\n",
       "      <td>2003</td>\n",
       "    </tr>\n",
       "    <tr>\n",
       "      <th>7105</th>\n",
       "      <td>381</td>\n",
       "      <td>2003</td>\n",
       "    </tr>\n",
       "    <tr>\n",
       "      <th>3363</th>\n",
       "      <td>381</td>\n",
       "      <td>2003</td>\n",
       "    </tr>\n",
       "  </tbody>\n",
       "</table>\n",
       "<p>10000 rows × 2 columns</p>\n",
       "</div>"
      ],
      "text/plain": [
       "      cars_made  Year\n",
       "6604        462  2002\n",
       "3473        462  2002\n",
       "3396        462  2002\n",
       "8289        462  2002\n",
       "8291        462  2002\n",
       "...         ...   ...\n",
       "605         381  2003\n",
       "1051        381  2003\n",
       "2342        381  2003\n",
       "7105        381  2003\n",
       "3363        381  2003\n",
       "\n",
       "[10000 rows x 2 columns]"
      ]
     },
     "execution_count": 156,
     "metadata": {},
     "output_type": "execute_result"
    }
   ],
   "source": [
    "df[[\"cars_made\", \"Year\"]].sort_values(by=\"cars_made\", ascending= False)"
   ]
  },
  {
   "cell_type": "code",
   "execution_count": 158,
   "id": "a0b06cbd-437f-45fb-abad-cfa258e2981c",
   "metadata": {},
   "outputs": [
    {
     "data": {
      "text/plain": [
       "cars_made     462\n",
       "Year         2023\n",
       "dtype: int64"
      ]
     },
     "execution_count": 158,
     "metadata": {},
     "output_type": "execute_result"
    }
   ],
   "source": [
    "df[[\"cars_made\", \"Year\"]].max()"
   ]
  },
  {
   "cell_type": "code",
   "execution_count": 52,
   "id": "2fe3bd4c-673f-4a6a-ab91-7716c21fd328",
   "metadata": {},
   "outputs": [
    {
     "data": {
      "image/png": "[encoded data removed]",
      "text/plain": [
       "<Figure size 640x480 with 1 Axes>"
      ]
     },
     "metadata": {},
     "output_type": "display_data"
    }
   ],
   "source": [
    "plt.bar(df[\"cars_made\"], df[\"Year\"])\n",
    "plt.xlabel(\"cars_made\")\n",
    "plt.ylabel(\"Year\")\n",
    "plt.ylim(2020, max(df[\"Year\"]))\n",
    "plt.title(\"Year of cars\")\n",
    "plt.show()"
   ]
  },
  {
   "cell_type": "markdown",
   "id": "676c49de-d63c-4cf9-aad6-a843f25ec15c",
   "metadata": {},
   "source": [
    "# Conclusions:"
   ]
  },
  {
   "cell_type": "markdown",
   "id": "ba4fff66-0e04-457f-a5df-91ae045a320b",
   "metadata": {},
   "source": [
    "- 2023 is the year in which the most cars were made."
   ]
  },
  {
   "cell_type": "code",
   "execution_count": null,
   "id": "68d38175-ae84-4cee-83d7-f67526f06cef",
   "metadata": {},
   "outputs": [],
   "source": []
  }
 ],
 "metadata": {
  "kernelspec": {
   "display_name": "Python [conda env:base] *",
   "language": "python",
   "name": "conda-base-py"
  },
  "language_info": {
   "codemirror_mode": {
    "name": "ipython",
    "version": 3
   },
   "file_extension": ".py",
   "mimetype": "text/x-python",
   "name": "python",
   "nbconvert_exporter": "python",
   "pygments_lexer": "ipython3",
   "version": "3.12.7"
  }
 },
 "nbformat": 4,
 "nbformat_minor": 5
}
