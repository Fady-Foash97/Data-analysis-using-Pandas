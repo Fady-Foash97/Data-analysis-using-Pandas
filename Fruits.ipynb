{
 "cells": [
  {
   "cell_type": "code",
   "execution_count": 3,
   "id": "aa1552cb-9d7a-4fe1-bde0-e8f55c550cdf",
   "metadata": {},
   "outputs": [],
   "source": [
    "import pandas as pd\n",
    "import matplotlib.pyplot as plt"
   ]
  },
  {
   "cell_type": "code",
   "execution_count": 9,
   "id": "dac66c61-4ef9-4e91-9ef7-104ce2e9d228",
   "metadata": {},
   "outputs": [],
   "source": [
    "df = pd.DataFrame({\"Fruit\": [\"Bananas\", \"Watermelons\", \"Apples\", \"Oranges\", \"Grapes\", \"Mangoes\", \"Pineapples\"],\n",
    "                   \"Production in tons\": [135.11, 99.96, 95.84, 76.41, 74.94, 59.15, 29.36]})"
   ]
  },
  {
   "cell_type": "code",
   "execution_count": 11,
   "id": "9d188565-554b-4e0f-a87c-8566422a0c4b",
   "metadata": {},
   "outputs": [
    {
     "data": {
      "text/html": [
       "<div>\n",
       "<style scoped>\n",
       "    .dataframe tbody tr th:only-of-type {\n",
       "        vertical-align: middle;\n",
       "    }\n",
       "\n",
       "    .dataframe tbody tr th {\n",
       "        vertical-align: top;\n",
       "    }\n",
       "\n",
       "    .dataframe thead th {\n",
       "        text-align: right;\n",
       "    }\n",
       "</style>\n",
       "<table border=\"1\" class=\"dataframe\">\n",
       "  <thead>\n",
       "    <tr style=\"text-align: right;\">\n",
       "      <th></th>\n",
       "      <th>Fruit</th>\n",
       "      <th>Production in tons</th>\n",
       "    </tr>\n",
       "  </thead>\n",
       "  <tbody>\n",
       "    <tr>\n",
       "      <th>0</th>\n",
       "      <td>Bananas</td>\n",
       "      <td>135.11</td>\n",
       "    </tr>\n",
       "    <tr>\n",
       "      <th>1</th>\n",
       "      <td>Watermelons</td>\n",
       "      <td>99.96</td>\n",
       "    </tr>\n",
       "    <tr>\n",
       "      <th>2</th>\n",
       "      <td>Apples</td>\n",
       "      <td>95.84</td>\n",
       "    </tr>\n",
       "    <tr>\n",
       "      <th>3</th>\n",
       "      <td>Oranges</td>\n",
       "      <td>76.41</td>\n",
       "    </tr>\n",
       "    <tr>\n",
       "      <th>4</th>\n",
       "      <td>Grapes</td>\n",
       "      <td>74.94</td>\n",
       "    </tr>\n",
       "    <tr>\n",
       "      <th>5</th>\n",
       "      <td>Mangoes</td>\n",
       "      <td>59.15</td>\n",
       "    </tr>\n",
       "    <tr>\n",
       "      <th>6</th>\n",
       "      <td>Pineapples</td>\n",
       "      <td>29.36</td>\n",
       "    </tr>\n",
       "  </tbody>\n",
       "</table>\n",
       "</div>"
      ],
      "text/plain": [
       "         Fruit  Production in tons\n",
       "0      Bananas              135.11\n",
       "1  Watermelons               99.96\n",
       "2       Apples               95.84\n",
       "3      Oranges               76.41\n",
       "4       Grapes               74.94\n",
       "5      Mangoes               59.15\n",
       "6   Pineapples               29.36"
      ]
     },
     "execution_count": 11,
     "metadata": {},
     "output_type": "execute_result"
    }
   ],
   "source": [
    "df"
   ]
  },
  {
   "cell_type": "code",
   "execution_count": 13,
   "id": "e775f647-f2e6-4e2a-8483-536be06092be",
   "metadata": {},
   "outputs": [
    {
     "name": "stdout",
     "output_type": "stream",
     "text": [
      "         Fruit  Production in tons\n",
      "0      Bananas              135.11\n",
      "1  Watermelons               99.96\n",
      "2       Apples               95.84\n",
      "3      Oranges               76.41\n",
      "4       Grapes               74.94\n",
      "5      Mangoes               59.15\n",
      "6   Pineapples               29.36\n"
     ]
    }
   ],
   "source": [
    "print(df.to_string())"
   ]
  },
  {
   "cell_type": "code",
   "execution_count": 15,
   "id": "d5293738-bd44-4401-9781-0fb086826cfe",
   "metadata": {},
   "outputs": [
    {
     "data": {
      "text/html": [
       "<div>\n",
       "<style scoped>\n",
       "    .dataframe tbody tr th:only-of-type {\n",
       "        vertical-align: middle;\n",
       "    }\n",
       "\n",
       "    .dataframe tbody tr th {\n",
       "        vertical-align: top;\n",
       "    }\n",
       "\n",
       "    .dataframe thead th {\n",
       "        text-align: right;\n",
       "    }\n",
       "</style>\n",
       "<table border=\"1\" class=\"dataframe\">\n",
       "  <thead>\n",
       "    <tr style=\"text-align: right;\">\n",
       "      <th></th>\n",
       "      <th>Fruit</th>\n",
       "      <th>Production in tons</th>\n",
       "    </tr>\n",
       "  </thead>\n",
       "  <tbody>\n",
       "    <tr>\n",
       "      <th>0</th>\n",
       "      <td>Bananas</td>\n",
       "      <td>135.11</td>\n",
       "    </tr>\n",
       "    <tr>\n",
       "      <th>1</th>\n",
       "      <td>Watermelons</td>\n",
       "      <td>99.96</td>\n",
       "    </tr>\n",
       "    <tr>\n",
       "      <th>2</th>\n",
       "      <td>Apples</td>\n",
       "      <td>95.84</td>\n",
       "    </tr>\n",
       "    <tr>\n",
       "      <th>3</th>\n",
       "      <td>Oranges</td>\n",
       "      <td>76.41</td>\n",
       "    </tr>\n",
       "    <tr>\n",
       "      <th>4</th>\n",
       "      <td>Grapes</td>\n",
       "      <td>74.94</td>\n",
       "    </tr>\n",
       "    <tr>\n",
       "      <th>5</th>\n",
       "      <td>Mangoes</td>\n",
       "      <td>59.15</td>\n",
       "    </tr>\n",
       "    <tr>\n",
       "      <th>6</th>\n",
       "      <td>Pineapples</td>\n",
       "      <td>29.36</td>\n",
       "    </tr>\n",
       "  </tbody>\n",
       "</table>\n",
       "</div>"
      ],
      "text/plain": [
       "         Fruit  Production in tons\n",
       "0      Bananas              135.11\n",
       "1  Watermelons               99.96\n",
       "2       Apples               95.84\n",
       "3      Oranges               76.41\n",
       "4       Grapes               74.94\n",
       "5      Mangoes               59.15\n",
       "6   Pineapples               29.36"
      ]
     },
     "metadata": {},
     "output_type": "display_data"
    }
   ],
   "source": [
    "display(df)"
   ]
  },
  {
   "cell_type": "code",
   "execution_count": 17,
   "id": "c7832de0-1095-47db-af08-d7f4d5a3715a",
   "metadata": {},
   "outputs": [
    {
     "data": {
      "text/plain": [
       "0        Bananas\n",
       "1    Watermelons\n",
       "2         Apples\n",
       "3        Oranges\n",
       "4         Grapes\n",
       "5        Mangoes\n",
       "6     Pineapples\n",
       "Name: Fruit, dtype: object"
      ]
     },
     "execution_count": 17,
     "metadata": {},
     "output_type": "execute_result"
    }
   ],
   "source": [
    "df[\"Fruit\"]"
   ]
  },
  {
   "cell_type": "code",
   "execution_count": 59,
   "id": "42fc80f3-6a05-4259-beb8-bb9de38c5af4",
   "metadata": {},
   "outputs": [
    {
     "data": {
      "text/html": [
       "<div>\n",
       "<style scoped>\n",
       "    .dataframe tbody tr th:only-of-type {\n",
       "        vertical-align: middle;\n",
       "    }\n",
       "\n",
       "    .dataframe tbody tr th {\n",
       "        vertical-align: top;\n",
       "    }\n",
       "\n",
       "    .dataframe thead th {\n",
       "        text-align: right;\n",
       "    }\n",
       "</style>\n",
       "<table border=\"1\" class=\"dataframe\">\n",
       "  <thead>\n",
       "    <tr style=\"text-align: right;\">\n",
       "      <th></th>\n",
       "      <th>Fruit</th>\n",
       "      <th>Production in tons</th>\n",
       "    </tr>\n",
       "  </thead>\n",
       "  <tbody>\n",
       "    <tr>\n",
       "      <th>0</th>\n",
       "      <td>Bananas</td>\n",
       "      <td>135.11</td>\n",
       "    </tr>\n",
       "  </tbody>\n",
       "</table>\n",
       "</div>"
      ],
      "text/plain": [
       "     Fruit  Production in tons\n",
       "0  Bananas              135.11"
      ]
     },
     "execution_count": 59,
     "metadata": {},
     "output_type": "execute_result"
    }
   ],
   "source": [
    "df[df[\"Fruit\"] == \"Bananas\"]"
   ]
  },
  {
   "cell_type": "code",
   "execution_count": 92,
   "id": "459e4f38-9de0-4c89-ac95-04bc6e6a4e4c",
   "metadata": {},
   "outputs": [
    {
     "data": {
      "image/png": "[encoded data removed]",
      "text/plain": [
       "<Figure size 640x480 with 1 Axes>"
      ]
     },
     "metadata": {},
     "output_type": "display_data"
    }
   ],
   "source": [
    "x = [\"Bananas\", \"  Watermelons\", \"Apples\", \"Oranges\", \"Grapes\", \"Mangoes\", \"Pineapples\"]\n",
    "y = [135.11, 99.96, 95.84, 76.41, 74.94, 59.15, 29.36]\n",
    "plt.barh(x, y, height=0.5, color=\"green\")\n",
    "plt.xlabel(\"Production in tons\")\n",
    "plt.ylabel(\"Fruits\")\n",
    "plt.title(\"Global fruit productions in 2022\")\n",
    "plt.show()"
   ]
  },
  {
   "cell_type": "code",
   "execution_count": 95,
   "id": "6f860363-b2c4-4a29-97af-67dcbad13cd9",
   "metadata": {},
   "outputs": [
    {
     "data": {
      "image/png": "[encoded data removed]",
      "text/plain": [
       "<Figure size 640x480 with 1 Axes>"
      ]
     },
     "metadata": {},
     "output_type": "display_data"
    }
   ],
   "source": [
    "x = [\"Pineapples\", \"  Mangoes\", \"Grapes\", \"Oranges\", \"Apples\", \"Watermelons\", \"Bananas\"]\n",
    "y = [29.36, 59.15, 74.94, 76.41, 95.84, 99.96, 135.11]\n",
    "plt.barh(x, y, height=0.5, color=\"green\")\n",
    "plt.xlabel(\"Production in tons\")\n",
    "plt.ylabel(\"Fruits\")\n",
    "plt.title(\"Global fruit productions in 2022\")\n",
    "plt.show()"
   ]
  },
  {
   "cell_type": "code",
   "execution_count": null,
   "id": "e405d18e-69f8-46c4-a729-0a3f92b7cf8d",
   "metadata": {},
   "outputs": [],
   "source": []
  }
 ],
 "metadata": {
  "kernelspec": {
   "display_name": "Python [conda env:base] *",
   "language": "python",
   "name": "conda-base-py"
  },
  "language_info": {
   "codemirror_mode": {
    "name": "ipython",
    "version": 3
   },
   "file_extension": ".py",
   "mimetype": "text/x-python",
   "name": "python",
   "nbconvert_exporter": "python",
   "pygments_lexer": "ipython3",
   "version": "3.12.7"
  }
 },
 "nbformat": 4,
 "nbformat_minor": 5
}
